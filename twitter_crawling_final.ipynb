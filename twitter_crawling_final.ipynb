{
  "nbformat": 4,
  "nbformat_minor": 0,
  "metadata": {
    "colab": {
      "provenance": [],
      "collapsed_sections": []
    },
    "kernelspec": {
      "name": "python3",
      "display_name": "Python 3"
    },
    "language_info": {
      "name": "python"
    }
  },
  "cells": [
    {
      "cell_type": "code",
      "execution_count": null,
      "metadata": {
        "id": "aTRjHrvijqD3"
      },
      "outputs": [],
      "source": [
        "pip install python-twitter"
      ]
    },
    {
      "cell_type": "code",
      "source": [
        "twitter_consumer_key = \"\" # 트위터 api key\n",
        "twitter_consumer_secret = \"\"  # api key secret\n",
        "twitter_access_token = \"\" # access token\n",
        "twitter_access_secret = \"\" # access token secret\n",
        "import twitter\n",
        "twitter_api = twitter.Api(consumer_key=twitter_consumer_key,\n",
        "                          consumer_secret=twitter_consumer_secret, \n",
        "                          access_token_key=twitter_access_token, \n",
        "                          access_token_secret=twitter_access_secret)"
      ],
      "metadata": {
        "id": "tGzOr6LUj1io"
      },
      "execution_count": null,
      "outputs": []
    },
    {
      "cell_type": "code",
      "source": [
        "# python-twitter 크롤링 추출, 트위터 API는 7일까지밖에 추출을 못하도록 설정되어있음\n",
        "# 그래서 python-twitter는 사용 결과 결과물이 별로 나오지 않아 보류\n",
        "\n",
        "query = \"#gs25\"\n",
        "statuses = twitter_api.GetSearch(term=query, count=5000)\n",
        "for status in statuses:\n",
        "    print(status.text)"
      ],
      "metadata": {
        "id": "ypSUfesnj3gl"
      },
      "execution_count": null,
      "outputs": []
    },
    {
      "cell_type": "code",
      "source": [
        "tweet_text = []\n",
        "for status in statuses:\n",
        "    tweet_text.append(status.text)\n",
        "\n",
        "# print(tweet_text) # 결과값 보고싶으면 주석 해제"
      ],
      "metadata": {
        "id": "-WqaFqoCkIy_"
      },
      "execution_count": null,
      "outputs": []
    },
    {
      "cell_type": "code",
      "source": [
        "# python-twitter로 추출한 결과값을 메모장으로 저장\n",
        "# 코드를 보면 google.colab으로 결과값이 저장되기에 colab 사용해야됨\n",
        "\n",
        "f = open(\"gs25.txt\",\"w\", encoding='UTF-8', newline='')\n",
        "for num in range(0,len(tweet_text)):\n",
        "    f.write(\"%s\\n\"% tweet_text[num])\n",
        "f.close\n",
        "from google.colab import files\n",
        "files.download('gs25.txt')"
      ],
      "metadata": {
        "id": "t5JSCekmkKYv"
      },
      "execution_count": null,
      "outputs": []
    },
    {
      "cell_type": "code",
      "source": [
        "# pip install twitterscraper\n",
        "# twiiterscraper 도 사용해보려 했으나 문법이 오래되서 그런지 먹히지 않아 보류함\n",
        "\n",
        "# twitterscraper Trump -l 1000 -bd 2017-01-01 -ed 2017-06-01 -o tweets.json\n",
        "# twitterscraper \"gs25\" -o gs25-tweet.json -l 10000 -bd 2022-07-28 -ed 2022-10-03 \n",
        "# query_tweets('query', limit=None, begindate=dt.date.today(2017-01-01), enddate=dt.date.today(2017-06-01), poolsize=20, lang='')"
      ],
      "metadata": {
        "id": "xckMmuF3kzMm"
      },
      "execution_count": null,
      "outputs": []
    },
    {
      "cell_type": "code",
      "source": [
        "pip install tweepy"
      ],
      "metadata": {
        "id": "KOlL1n18k0PU"
      },
      "execution_count": null,
      "outputs": []
    },
    {
      "cell_type": "code",
      "source": [
        "twitter_consumer_key = \"\" \n",
        "twitter_consumer_secret = \"\"  \n",
        "twitter_access_token = \"\"\n",
        "twitter_access_secret = \"\"\n",
        "import twitter\n",
        "twitter_api = twitter.Api(consumer_key=twitter_consumer_key,\n",
        "                          consumer_secret=twitter_consumer_secret, \n",
        "                          access_token_key=twitter_access_token, \n",
        "                          access_token_secret=twitter_access_secret)"
      ],
      "metadata": {
        "id": "k3iH3tSmlAl4"
      },
      "execution_count": null,
      "outputs": []
    },
    {
      "cell_type": "code",
      "source": [
        "import json\n",
        "import pandas as pd"
      ],
      "metadata": {
        "id": "kV4yOhV_lCtw"
      },
      "execution_count": null,
      "outputs": []
    },
    {
      "cell_type": "code",
      "source": [
        "tweet_list = []\n",
        "\n",
        "for status in tweepy.Cursor(api.search, q='지에스', since='2022-01-01', until='2022-10-04', lang='ko').items(): # q는 검색값, since는 시작날짜 until은 마감날짜, lang은 언어설정 items()는 몇개까지 추출할건지 결정\n",
        "    temp_list = [status.text, status.created_at,status.retweet_count, status.favorite_count] # 텍스트 내용, 텍스트 날짜, 리트윗 개수, 좋아요 개수 표시\n",
        "    tweet_list.append(temp_list)\n",
        "\n",
        "df = pd.DataFrame(tweet_list, columns=['Tweets', 'Created_Date', '#_of_Retweets', '#_of_Likes']) # 데이터프레임화\n",
        "\n",
        "print(len(df)) # 몇개나 추출했는지\n",
        "# df.head() # 주석 해제하면 5개 추출값 데이터프레임으로 보여줌\n",
        "df.to_json('gs25.json') # csv로 저장하니 한글이 깨짐. 인코더 바꿔도 마찬가지\n",
        "\n",
        "# json 파일에서 전처리를 하던가 json파일에서 추가로 변환하여 전처리과정 진행해야 될 듯"
      ],
      "metadata": {
        "id": "9NRTuLmvlIfV"
      },
      "execution_count": null,
      "outputs": []
    },
    {
      "cell_type": "code",
      "source": [
        "# # 지속적으로 추출하면 트위터 API측에서 오류를 생성하며 막아버림, 이를 위해 tweepy에서 이를 우회하는 코드를 만듬\n",
        "# # 근데 toomanyreqests 에서 오류가 발생하여 코드수정이 필요할 것으로 보임\n",
        "\n",
        "# import tweepy\n",
        "# auth = tweepy.OAuthHandler(twitter_consumer_key, twitter_consumer_secret)\n",
        "# auth.set_access_token(twitter_access_token, twitter_access_secret)\n",
        "# api = tweepy.API(auth)\n",
        "# def limit_handled(cursor):\n",
        "#     while True:\n",
        "#         try:\n",
        "#             yield next(cursor)\n",
        "#         except tweepy.TooManyRequests:\n",
        "#             time.sleep(15 * 60)   # 15분 기다려줌.\n",
        "\n",
        "# for status in limit_handled(tweepy.Cursor(api.user_timeline, screen_name = '').items()):\n",
        "#     import pandas as pd\n",
        "\n",
        "#     tweet_list = []\n",
        "\n",
        "#     for status in tweepy.Cursor(api.user_timeline, id='SamsungNewsroom').items(400):\n",
        "#         temp_list = [status.text, status.created_at,status.retweet_count, status.favorite_count]\n",
        "#         tweet_list.append(temp_list)\n",
        "\n",
        "#     df = pd.DataFrame(tweet_list, columns=['Tweets', 'Created_Date', '#_of_Retweets', '#_of_Likes'])\n",
        "\n",
        "#     print(len(df))\n",
        "#     df.head()\n"
      ],
      "metadata": {
        "id": "FcCfMQ-LmQYL"
      },
      "execution_count": null,
      "outputs": []
    },
    {
      "cell_type": "code",
      "source": [],
      "metadata": {
        "id": "V75hQ0x3mvk_"
      },
      "execution_count": null,
      "outputs": []
    }
  ]
}